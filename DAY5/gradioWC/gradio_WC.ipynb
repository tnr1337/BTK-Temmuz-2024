{
 "cells": [
  {
   "cell_type": "code",
   "execution_count": 1,
   "id": "5b48ec3f-041e-4e58-990a-56818729f70b",
   "metadata": {
    "scrolled": true
   },
   "outputs": [
    {
     "name": "stdout",
     "output_type": "stream",
     "text": [
      "Requirement already satisfied: gradio in /opt/anaconda3/lib/python3.11/site-packages (4.38.1)\n",
      "Requirement already satisfied: aiofiles<24.0,>=22.0 in /opt/anaconda3/lib/python3.11/site-packages (from gradio) (23.2.1)\n",
      "Requirement already satisfied: altair<6.0,>=5.0 in /opt/anaconda3/lib/python3.11/site-packages (from gradio) (5.0.1)\n",
      "Requirement already satisfied: fastapi in /opt/anaconda3/lib/python3.11/site-packages (from gradio) (0.111.1)\n",
      "Requirement already satisfied: ffmpy in /opt/anaconda3/lib/python3.11/site-packages (from gradio) (0.3.2)\n",
      "Requirement already satisfied: gradio-client==1.1.0 in /opt/anaconda3/lib/python3.11/site-packages (from gradio) (1.1.0)\n",
      "Requirement already satisfied: httpx>=0.24.1 in /opt/anaconda3/lib/python3.11/site-packages (from gradio) (0.27.0)\n",
      "Requirement already satisfied: huggingface-hub>=0.19.3 in /opt/anaconda3/lib/python3.11/site-packages (from gradio) (0.24.0)\n",
      "Requirement already satisfied: importlib-resources<7.0,>=1.3 in /opt/anaconda3/lib/python3.11/site-packages (from gradio) (6.4.0)\n",
      "Requirement already satisfied: jinja2<4.0 in /opt/anaconda3/lib/python3.11/site-packages (from gradio) (3.1.3)\n",
      "Requirement already satisfied: markupsafe~=2.0 in /opt/anaconda3/lib/python3.11/site-packages (from gradio) (2.1.3)\n",
      "Requirement already satisfied: matplotlib~=3.0 in /opt/anaconda3/lib/python3.11/site-packages (from gradio) (3.8.0)\n",
      "Requirement already satisfied: numpy<3.0,>=1.0 in /opt/anaconda3/lib/python3.11/site-packages (from gradio) (1.26.4)\n",
      "Requirement already satisfied: orjson~=3.0 in /opt/anaconda3/lib/python3.11/site-packages (from gradio) (3.10.6)\n",
      "Requirement already satisfied: packaging in /opt/anaconda3/lib/python3.11/site-packages (from gradio) (23.1)\n",
      "Requirement already satisfied: pandas<3.0,>=1.0 in /opt/anaconda3/lib/python3.11/site-packages (from gradio) (2.2.2)\n",
      "Requirement already satisfied: pillow<11.0,>=8.0 in /opt/anaconda3/lib/python3.11/site-packages (from gradio) (9.4.0)\n",
      "Requirement already satisfied: pydantic>=2.0 in /opt/anaconda3/lib/python3.11/site-packages (from gradio) (2.8.2)\n",
      "Requirement already satisfied: pydub in /opt/anaconda3/lib/python3.11/site-packages (from gradio) (0.25.1)\n",
      "Requirement already satisfied: python-multipart>=0.0.9 in /opt/anaconda3/lib/python3.11/site-packages (from gradio) (0.0.9)\n",
      "Requirement already satisfied: pyyaml<7.0,>=5.0 in /opt/anaconda3/lib/python3.11/site-packages (from gradio) (6.0.1)\n",
      "Requirement already satisfied: ruff>=0.2.2 in /opt/anaconda3/lib/python3.11/site-packages (from gradio) (0.5.3)\n",
      "Requirement already satisfied: semantic-version~=2.0 in /opt/anaconda3/lib/python3.11/site-packages (from gradio) (2.10.0)\n",
      "Requirement already satisfied: tomlkit==0.12.0 in /opt/anaconda3/lib/python3.11/site-packages (from gradio) (0.12.0)\n",
      "Requirement already satisfied: typer<1.0,>=0.12 in /opt/anaconda3/lib/python3.11/site-packages (from gradio) (0.12.3)\n",
      "Requirement already satisfied: typing-extensions~=4.0 in /opt/anaconda3/lib/python3.11/site-packages (from gradio) (4.12.2)\n",
      "Requirement already satisfied: urllib3~=2.0 in /opt/anaconda3/lib/python3.11/site-packages (from gradio) (2.0.7)\n",
      "Requirement already satisfied: uvicorn>=0.14.0 in /opt/anaconda3/lib/python3.11/site-packages (from gradio) (0.30.1)\n",
      "Requirement already satisfied: fsspec in /opt/anaconda3/lib/python3.11/site-packages (from gradio-client==1.1.0->gradio) (2023.10.0)\n",
      "Requirement already satisfied: websockets<12.0,>=10.0 in /opt/anaconda3/lib/python3.11/site-packages (from gradio-client==1.1.0->gradio) (11.0.3)\n",
      "Requirement already satisfied: jsonschema>=3.0 in /opt/anaconda3/lib/python3.11/site-packages (from altair<6.0,>=5.0->gradio) (4.19.2)\n",
      "Requirement already satisfied: toolz in /opt/anaconda3/lib/python3.11/site-packages (from altair<6.0,>=5.0->gradio) (0.12.0)\n",
      "Requirement already satisfied: anyio in /opt/anaconda3/lib/python3.11/site-packages (from httpx>=0.24.1->gradio) (4.2.0)\n",
      "Requirement already satisfied: certifi in /opt/anaconda3/lib/python3.11/site-packages (from httpx>=0.24.1->gradio) (2024.2.2)\n",
      "Requirement already satisfied: httpcore==1.* in /opt/anaconda3/lib/python3.11/site-packages (from httpx>=0.24.1->gradio) (1.0.5)\n",
      "Requirement already satisfied: idna in /opt/anaconda3/lib/python3.11/site-packages (from httpx>=0.24.1->gradio) (3.4)\n",
      "Requirement already satisfied: sniffio in /opt/anaconda3/lib/python3.11/site-packages (from httpx>=0.24.1->gradio) (1.3.0)\n",
      "Requirement already satisfied: h11<0.15,>=0.13 in /opt/anaconda3/lib/python3.11/site-packages (from httpcore==1.*->httpx>=0.24.1->gradio) (0.14.0)\n",
      "Requirement already satisfied: filelock in /opt/anaconda3/lib/python3.11/site-packages (from huggingface-hub>=0.19.3->gradio) (3.13.1)\n",
      "Requirement already satisfied: requests in /opt/anaconda3/lib/python3.11/site-packages (from huggingface-hub>=0.19.3->gradio) (2.31.0)\n",
      "Requirement already satisfied: tqdm>=4.42.1 in /opt/anaconda3/lib/python3.11/site-packages (from huggingface-hub>=0.19.3->gradio) (4.65.0)\n",
      "Requirement already satisfied: contourpy>=1.0.1 in /opt/anaconda3/lib/python3.11/site-packages (from matplotlib~=3.0->gradio) (1.2.0)\n",
      "Requirement already satisfied: cycler>=0.10 in /opt/anaconda3/lib/python3.11/site-packages (from matplotlib~=3.0->gradio) (0.11.0)\n",
      "Requirement already satisfied: fonttools>=4.22.0 in /opt/anaconda3/lib/python3.11/site-packages (from matplotlib~=3.0->gradio) (4.25.0)\n",
      "Requirement already satisfied: kiwisolver>=1.0.1 in /opt/anaconda3/lib/python3.11/site-packages (from matplotlib~=3.0->gradio) (1.4.4)\n",
      "Requirement already satisfied: pyparsing>=2.3.1 in /opt/anaconda3/lib/python3.11/site-packages (from matplotlib~=3.0->gradio) (3.0.9)\n",
      "Requirement already satisfied: python-dateutil>=2.7 in /opt/anaconda3/lib/python3.11/site-packages (from matplotlib~=3.0->gradio) (2.8.2)\n",
      "Requirement already satisfied: pytz>=2020.1 in /opt/anaconda3/lib/python3.11/site-packages (from pandas<3.0,>=1.0->gradio) (2023.3.post1)\n",
      "Requirement already satisfied: tzdata>=2022.7 in /opt/anaconda3/lib/python3.11/site-packages (from pandas<3.0,>=1.0->gradio) (2023.3)\n",
      "Requirement already satisfied: annotated-types>=0.4.0 in /opt/anaconda3/lib/python3.11/site-packages (from pydantic>=2.0->gradio) (0.7.0)\n",
      "Requirement already satisfied: pydantic-core==2.20.1 in /opt/anaconda3/lib/python3.11/site-packages (from pydantic>=2.0->gradio) (2.20.1)\n",
      "Requirement already satisfied: click>=8.0.0 in /opt/anaconda3/lib/python3.11/site-packages (from typer<1.0,>=0.12->gradio) (8.1.7)\n",
      "Requirement already satisfied: shellingham>=1.3.0 in /opt/anaconda3/lib/python3.11/site-packages (from typer<1.0,>=0.12->gradio) (1.5.4)\n",
      "Requirement already satisfied: rich>=10.11.0 in /opt/anaconda3/lib/python3.11/site-packages (from typer<1.0,>=0.12->gradio) (13.3.5)\n",
      "Requirement already satisfied: starlette<0.38.0,>=0.37.2 in /opt/anaconda3/lib/python3.11/site-packages (from fastapi->gradio) (0.37.2)\n",
      "Requirement already satisfied: fastapi-cli>=0.0.2 in /opt/anaconda3/lib/python3.11/site-packages (from fastapi->gradio) (0.0.4)\n",
      "Requirement already satisfied: email_validator>=2.0.0 in /opt/anaconda3/lib/python3.11/site-packages (from fastapi->gradio) (2.2.0)\n",
      "Requirement already satisfied: dnspython>=2.0.0 in /opt/anaconda3/lib/python3.11/site-packages (from email_validator>=2.0.0->fastapi->gradio) (2.6.1)\n",
      "Requirement already satisfied: attrs>=22.2.0 in /opt/anaconda3/lib/python3.11/site-packages (from jsonschema>=3.0->altair<6.0,>=5.0->gradio) (23.1.0)\n",
      "Requirement already satisfied: jsonschema-specifications>=2023.03.6 in /opt/anaconda3/lib/python3.11/site-packages (from jsonschema>=3.0->altair<6.0,>=5.0->gradio) (2023.7.1)\n",
      "Requirement already satisfied: referencing>=0.28.4 in /opt/anaconda3/lib/python3.11/site-packages (from jsonschema>=3.0->altair<6.0,>=5.0->gradio) (0.30.2)\n",
      "Requirement already satisfied: rpds-py>=0.7.1 in /opt/anaconda3/lib/python3.11/site-packages (from jsonschema>=3.0->altair<6.0,>=5.0->gradio) (0.10.6)\n",
      "Requirement already satisfied: six>=1.5 in /opt/anaconda3/lib/python3.11/site-packages (from python-dateutil>=2.7->matplotlib~=3.0->gradio) (1.16.0)\n",
      "Requirement already satisfied: markdown-it-py<3.0.0,>=2.2.0 in /opt/anaconda3/lib/python3.11/site-packages (from rich>=10.11.0->typer<1.0,>=0.12->gradio) (2.2.0)\n",
      "Requirement already satisfied: pygments<3.0.0,>=2.13.0 in /opt/anaconda3/lib/python3.11/site-packages (from rich>=10.11.0->typer<1.0,>=0.12->gradio) (2.15.1)\n",
      "Requirement already satisfied: httptools>=0.5.0 in /opt/anaconda3/lib/python3.11/site-packages (from uvicorn[standard]>=0.12.0->fastapi->gradio) (0.6.1)\n",
      "Requirement already satisfied: python-dotenv>=0.13 in /opt/anaconda3/lib/python3.11/site-packages (from uvicorn[standard]>=0.12.0->fastapi->gradio) (0.21.0)\n",
      "Requirement already satisfied: uvloop!=0.15.0,!=0.15.1,>=0.14.0 in /opt/anaconda3/lib/python3.11/site-packages (from uvicorn[standard]>=0.12.0->fastapi->gradio) (0.19.0)\n",
      "Requirement already satisfied: watchfiles>=0.13 in /opt/anaconda3/lib/python3.11/site-packages (from uvicorn[standard]>=0.12.0->fastapi->gradio) (0.22.0)\n",
      "Requirement already satisfied: charset-normalizer<4,>=2 in /opt/anaconda3/lib/python3.11/site-packages (from requests->huggingface-hub>=0.19.3->gradio) (2.0.4)\n",
      "Requirement already satisfied: mdurl~=0.1 in /opt/anaconda3/lib/python3.11/site-packages (from markdown-it-py<3.0.0,>=2.2.0->rich>=10.11.0->typer<1.0,>=0.12->gradio) (0.1.0)\n",
      "Note: you may need to restart the kernel to use updated packages.\n"
     ]
    }
   ],
   "source": [
    "#pip install gradio"
   ]
  },
  {
   "cell_type": "code",
   "execution_count": 2,
   "id": "110d2b3d-38ef-471a-99a8-7938f667e98e",
   "metadata": {},
   "outputs": [
    {
     "name": "stdout",
     "output_type": "stream",
     "text": [
      "Requirement already satisfied: stylecloud==0.5.2 in /opt/anaconda3/lib/python3.11/site-packages (0.5.2)\n",
      "Requirement already satisfied: wordcloud in /opt/anaconda3/lib/python3.11/site-packages (from stylecloud==0.5.2) (1.9.3)\n",
      "Requirement already satisfied: icon-font-to-png in /opt/anaconda3/lib/python3.11/site-packages (from stylecloud==0.5.2) (0.4.1)\n",
      "Requirement already satisfied: palettable in /opt/anaconda3/lib/python3.11/site-packages (from stylecloud==0.5.2) (3.3.3)\n",
      "Requirement already satisfied: fire in /opt/anaconda3/lib/python3.11/site-packages (from stylecloud==0.5.2) (0.6.0)\n",
      "Requirement already satisfied: matplotlib in /opt/anaconda3/lib/python3.11/site-packages (from stylecloud==0.5.2) (3.8.0)\n",
      "Requirement already satisfied: six in /opt/anaconda3/lib/python3.11/site-packages (from fire->stylecloud==0.5.2) (1.16.0)\n",
      "Requirement already satisfied: termcolor in /opt/anaconda3/lib/python3.11/site-packages (from fire->stylecloud==0.5.2) (2.4.0)\n",
      "Requirement already satisfied: Pillow>=4.0.0 in /opt/anaconda3/lib/python3.11/site-packages (from icon-font-to-png->stylecloud==0.5.2) (9.4.0)\n",
      "Requirement already satisfied: requests>=2.12.5 in /opt/anaconda3/lib/python3.11/site-packages (from icon-font-to-png->stylecloud==0.5.2) (2.31.0)\n",
      "Requirement already satisfied: tinycss>=0.4 in /opt/anaconda3/lib/python3.11/site-packages (from icon-font-to-png->stylecloud==0.5.2) (0.4)\n",
      "Requirement already satisfied: contourpy>=1.0.1 in /opt/anaconda3/lib/python3.11/site-packages (from matplotlib->stylecloud==0.5.2) (1.2.0)\n",
      "Requirement already satisfied: cycler>=0.10 in /opt/anaconda3/lib/python3.11/site-packages (from matplotlib->stylecloud==0.5.2) (0.11.0)\n",
      "Requirement already satisfied: fonttools>=4.22.0 in /opt/anaconda3/lib/python3.11/site-packages (from matplotlib->stylecloud==0.5.2) (4.25.0)\n",
      "Requirement already satisfied: kiwisolver>=1.0.1 in /opt/anaconda3/lib/python3.11/site-packages (from matplotlib->stylecloud==0.5.2) (1.4.4)\n",
      "Requirement already satisfied: numpy<2,>=1.21 in /opt/anaconda3/lib/python3.11/site-packages (from matplotlib->stylecloud==0.5.2) (1.26.4)\n",
      "Requirement already satisfied: packaging>=20.0 in /opt/anaconda3/lib/python3.11/site-packages (from matplotlib->stylecloud==0.5.2) (23.1)\n",
      "Requirement already satisfied: pyparsing>=2.3.1 in /opt/anaconda3/lib/python3.11/site-packages (from matplotlib->stylecloud==0.5.2) (3.0.9)\n",
      "Requirement already satisfied: python-dateutil>=2.7 in /opt/anaconda3/lib/python3.11/site-packages (from matplotlib->stylecloud==0.5.2) (2.8.2)\n",
      "Requirement already satisfied: charset-normalizer<4,>=2 in /opt/anaconda3/lib/python3.11/site-packages (from requests>=2.12.5->icon-font-to-png->stylecloud==0.5.2) (2.0.4)\n",
      "Requirement already satisfied: idna<4,>=2.5 in /opt/anaconda3/lib/python3.11/site-packages (from requests>=2.12.5->icon-font-to-png->stylecloud==0.5.2) (3.4)\n",
      "Requirement already satisfied: urllib3<3,>=1.21.1 in /opt/anaconda3/lib/python3.11/site-packages (from requests>=2.12.5->icon-font-to-png->stylecloud==0.5.2) (2.0.7)\n",
      "Requirement already satisfied: certifi>=2017.4.17 in /opt/anaconda3/lib/python3.11/site-packages (from requests>=2.12.5->icon-font-to-png->stylecloud==0.5.2) (2024.2.2)\n",
      "Note: you may need to restart the kernel to use updated packages.\n"
     ]
    }
   ],
   "source": [
    "#pip install stylecloud==0.5.2"
   ]
  },
  {
   "cell_type": "code",
   "execution_count": 3,
   "id": "f60e22b3-49d3-4b39-ae79-ad35544bdfd1",
   "metadata": {},
   "outputs": [
    {
     "name": "stdout",
     "output_type": "stream",
     "text": [
      "Requirement already satisfied: Pillow==9.4.0 in /opt/anaconda3/lib/python3.11/site-packages (9.4.0)\n",
      "Note: you may need to restart the kernel to use updated packages.\n"
     ]
    }
   ],
   "source": [
    "#pip install Pillow==9.4.0"
   ]
  },
  {
   "cell_type": "code",
   "execution_count": 1,
   "id": "dda0fd8c-42cb-4151-b919-9d9794974c2b",
   "metadata": {},
   "outputs": [
    {
     "name": "stdout",
     "output_type": "stream",
     "text": [
      "Running on local URL:  http://127.0.0.1:7860\n",
      "Running on public URL: https://cd6489eb4c934671ef.gradio.live\n",
      "\n",
      "This share link expires in 72 hours. For free permanent hosting and GPU upgrades, run `gradio deploy` from Terminal to deploy to Spaces (https://huggingface.co/spaces)\n"
     ]
    },
    {
     "data": {
      "text/html": [
       "<div><iframe src=\"https://cd6489eb4c934671ef.gradio.live\" width=\"100%\" height=\"500\" allow=\"autoplay; camera; microphone; clipboard-read; clipboard-write;\" frameborder=\"0\" allowfullscreen></iframe></div>"
      ],
      "text/plain": [
       "<IPython.core.display.HTML object>"
      ]
     },
     "metadata": {},
     "output_type": "display_data"
    },
    {
     "data": {
      "text/plain": []
     },
     "execution_count": 1,
     "metadata": {},
     "output_type": "execute_result"
    }
   ],
   "source": [
    "import gradio as gr\n",
    "import stylecloud\n",
    "from PIL import Image\n",
    "import os \n",
    "\n",
    "# fonksiyon tanımla \n",
    "def create_stylecloud(file,language,icon):\n",
    "    text = file.decode(\"utf-8\")\n",
    "    output_file='stylecloud.png'\n",
    "    stylecloud.gen_stylecloud(\n",
    "        text = text,  \n",
    "        icon_name = icon, \n",
    "        size = 500,\n",
    "        output_name = output_file,\n",
    "    )\n",
    "    # oluşturulan kelime bulutunun dosya adı \n",
    "    return output_file\n",
    "\n",
    "'''\n",
    "    EKSTRA PARAMETRELER\n",
    "    size = 500, # size belirtilebilir.\n",
    "    palette = 'cartocolors.qualitative.Bold_10',\n",
    "    gradient = \"horizontal\",\n",
    "    background_color = \"white\",\n",
    "    collocations = False\n",
    "'''\n",
    "\n",
    "# Gradio ile arayüzü oluştur \n",
    "with gr.Blocks() as demo: \n",
    "    gr.Markdown('Kelime Bulutu Oluşturucu')\n",
    "    \n",
    "    with gr.Row():\n",
    "        file_input = gr.File(label='Metin Dosyasını Yükle', type='binary')\n",
    "        language = gr.Radio(choices=['TR','EN'],label='Dil Seçimi',value='TR')\n",
    "        icon = gr.Dropdown(choices=[\"fas fa-star-and-crescent\", \"fas fa-trophy\", 'fas fa-laptop', \"fas fa-heart\", \"fas fa-car\",'fas fa-wifi'],\n",
    "                        label='İkon seçimi',value=\"fas fa-heart\")\n",
    "        create_button = gr.Button('Kelime Bulutu Oluştur')\n",
    "        output_file = gr.File(label='Kelime Bulutunu İndir')\n",
    "        \n",
    "        # butona basıldığında \n",
    "        create_button.click(\n",
    "        create_stylecloud,\n",
    "        inputs=[file_input,language,icon], \n",
    "        outputs = output_file \n",
    "        )\n",
    "\n",
    "demo.launch(share=True) # share = True public link verir. "
   ]
  },
  {
   "cell_type": "code",
   "execution_count": null,
   "id": "3607c689-bfa7-4e2f-90df-0521c6e95f30",
   "metadata": {},
   "outputs": [],
   "source": []
  }
 ],
 "metadata": {
  "kernelspec": {
   "display_name": "Python 3 (ipykernel)",
   "language": "python",
   "name": "python3"
  },
  "language_info": {
   "codemirror_mode": {
    "name": "ipython",
    "version": 3
   },
   "file_extension": ".py",
   "mimetype": "text/x-python",
   "name": "python",
   "nbconvert_exporter": "python",
   "pygments_lexer": "ipython3",
   "version": "3.11.7"
  }
 },
 "nbformat": 4,
 "nbformat_minor": 5
}
