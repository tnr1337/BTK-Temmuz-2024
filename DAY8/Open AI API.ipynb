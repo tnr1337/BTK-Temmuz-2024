{
 "cells": [
  {
   "cell_type": "markdown",
   "id": "2c70c928",
   "metadata": {},
   "source": [
    "# Open AI -API üzerinden ChatGPT Kullanımı"
   ]
  },
  {
   "cell_type": "code",
   "execution_count": 1,
   "id": "7d1fa2c3",
   "metadata": {
    "collapsed": true
   },
   "outputs": [
    {
     "name": "stdout",
     "output_type": "stream",
     "text": [
      "Requirement already satisfied: openai in c:\\users\\murat\\.conda\\envs\\jupyterlab\\lib\\site-packages (1.35.13)\n",
      "Requirement already satisfied: anyio<5,>=3.5.0 in c:\\users\\murat\\.conda\\envs\\jupyterlab\\lib\\site-packages (from openai) (4.2.0)\n",
      "Requirement already satisfied: distro<2,>=1.7.0 in c:\\users\\murat\\.conda\\envs\\jupyterlab\\lib\\site-packages (from openai) (1.9.0)\n",
      "Requirement already satisfied: httpx<1,>=0.23.0 in c:\\users\\murat\\.conda\\envs\\jupyterlab\\lib\\site-packages (from openai) (0.27.0)\n",
      "Requirement already satisfied: pydantic<3,>=1.9.0 in c:\\users\\murat\\.conda\\envs\\jupyterlab\\lib\\site-packages (from openai) (2.8.2)\n",
      "Requirement already satisfied: sniffio in c:\\users\\murat\\.conda\\envs\\jupyterlab\\lib\\site-packages (from openai) (1.3.0)\n",
      "Requirement already satisfied: tqdm>4 in c:\\users\\murat\\.conda\\envs\\jupyterlab\\lib\\site-packages (from openai) (4.66.4)\n",
      "Requirement already satisfied: typing-extensions<5,>=4.7 in c:\\users\\murat\\.conda\\envs\\jupyterlab\\lib\\site-packages (from openai) (4.11.0)\n",
      "Requirement already satisfied: idna>=2.8 in c:\\users\\murat\\.conda\\envs\\jupyterlab\\lib\\site-packages (from anyio<5,>=3.5.0->openai) (3.7)\n",
      "Requirement already satisfied: exceptiongroup>=1.0.2 in c:\\users\\murat\\.conda\\envs\\jupyterlab\\lib\\site-packages (from anyio<5,>=3.5.0->openai) (1.2.0)\n",
      "Requirement already satisfied: certifi in c:\\users\\murat\\.conda\\envs\\jupyterlab\\lib\\site-packages (from httpx<1,>=0.23.0->openai) (2024.7.4)\n",
      "Requirement already satisfied: httpcore==1.* in c:\\users\\murat\\.conda\\envs\\jupyterlab\\lib\\site-packages (from httpx<1,>=0.23.0->openai) (1.0.5)\n",
      "Requirement already satisfied: h11<0.15,>=0.13 in c:\\users\\murat\\.conda\\envs\\jupyterlab\\lib\\site-packages (from httpcore==1.*->httpx<1,>=0.23.0->openai) (0.14.0)\n",
      "Requirement already satisfied: annotated-types>=0.4.0 in c:\\users\\murat\\.conda\\envs\\jupyterlab\\lib\\site-packages (from pydantic<3,>=1.9.0->openai) (0.7.0)\n",
      "Requirement already satisfied: pydantic-core==2.20.1 in c:\\users\\murat\\.conda\\envs\\jupyterlab\\lib\\site-packages (from pydantic<3,>=1.9.0->openai) (2.20.1)\n",
      "Requirement already satisfied: colorama in c:\\users\\murat\\.conda\\envs\\jupyterlab\\lib\\site-packages (from tqdm>4->openai) (0.4.6)\n",
      "Note: you may need to restart the kernel to use updated packages.\n"
     ]
    }
   ],
   "source": [
    "pip install openai"
   ]
  },
  {
   "cell_type": "code",
   "execution_count": 2,
   "id": "018c9a4e",
   "metadata": {
    "collapsed": true
   },
   "outputs": [
    {
     "name": "stdout",
     "output_type": "stream",
     "text": [
      "Name: openai\n",
      "Version: 1.35.13\n",
      "Summary: The official Python library for the openai API\n",
      "Home-page: \n",
      "Author: \n",
      "Author-email: OpenAI <support@openai.com>\n",
      "License: \n",
      "Location: c:\\users\\murat\\.conda\\envs\\jupyterlab\\lib\\site-packages\n",
      "Requires: anyio, distro, httpx, pydantic, sniffio, tqdm, typing-extensions\n",
      "Required-by: \n",
      "Note: you may need to restart the kernel to use updated packages.\n"
     ]
    }
   ],
   "source": [
    "pip show openai"
   ]
  },
  {
   "cell_type": "code",
   "execution_count": 5,
   "id": "0979cc0c",
   "metadata": {},
   "outputs": [],
   "source": [
    "import openai"
   ]
  },
  {
   "cell_type": "code",
   "execution_count": 7,
   "id": "52dacb50",
   "metadata": {},
   "outputs": [],
   "source": [
    "import os"
   ]
  },
  {
   "cell_type": "code",
   "execution_count": 6,
   "id": "78fdcfb5",
   "metadata": {},
   "outputs": [
    {
     "data": {
      "text/plain": [
       "'1.35.13'"
      ]
     },
     "execution_count": 6,
     "metadata": {},
     "output_type": "execute_result"
    }
   ],
   "source": [
    "openai.__version__"
   ]
  },
  {
   "cell_type": "code",
   "execution_count": 12,
   "id": "8819ffa4",
   "metadata": {},
   "outputs": [
    {
     "name": "stdout",
     "output_type": "stream",
     "text": [
      "Assistant(id='asst_22258aRhvgEEVQK4LCrnKIsm', created_at=1721825733, description=None, instructions='Sen metinden duygu analiz eden bir asistansın. \\n    Sana farklı dillerde cmleler verilebilir. \\n    Bu cümlelerin her irini kendi dilinde duygu  analizini yap.\\n    duygu durumuna göre değerlendir pozitif için 1, Negatif için -1 veya Nötr içi 0 değerlerin birini döndür.\\n    Bu değerlerden başka hiçbir şey döndürme.\\n    ', metadata={}, model='gpt-3.5-turbo', name='SenAssist', object='assistant', tools=[], response_format='auto', temperature=1.0, tool_resources=ToolResources(code_interpreter=None, file_search=None), top_p=1.0)\n"
     ]
    }
   ],
   "source": [
    "from openai import OpenAI\n",
    "from dotenv import load_dotenv\n",
    "load_dotenv()\n",
    "openai.api_key = os.getenv(\"OPENAI_API_KEY\")\n",
    "\n",
    "client=OpenAI()\n",
    "\n",
    "my_assistant=client.beta.assistants.create(\n",
    "    instructions='''Sen metinden duygu analiz eden bir asistansın. \n",
    "    Sana farklı dillerde cmleler verilebilir. \n",
    "    Bu cümlelerin her irini kendi dilinde duygu  analizini yap.\n",
    "    duygu durumuna göre değerlendir pozitif için 1, Negatif için -1 veya Nötr içi 0 değerlerin birini döndür.\n",
    "    Bu değerlerden başka hiçbir şey döndürme.\n",
    "    ''',\n",
    "    name='SenAssist',\n",
    "    model='gpt-3.5-turbo'\n",
    ")\n",
    "print (my_assistant)"
   ]
  },
  {
   "cell_type": "code",
   "execution_count": 13,
   "id": "887c2a63",
   "metadata": {},
   "outputs": [],
   "source": [
    "# client.beta.threads.create() returns a thread object\n",
    "my_thread = client.beta.threads.create()"
   ]
  },
  {
   "cell_type": "code",
   "execution_count": 14,
   "id": "fd3db864",
   "metadata": {},
   "outputs": [],
   "source": [
    "my_message = client.beta.threads.messages.create(\n",
    "  thread_id=my_thread.id,\n",
    "  role=\"user\",\n",
    "  content=\"Yemekler çok güzel.\" \n",
    ")"
   ]
  },
  {
   "cell_type": "code",
   "execution_count": 15,
   "id": "fd22e65d",
   "metadata": {},
   "outputs": [],
   "source": [
    "my_run = client.beta.threads.runs.create(\n",
    "  thread_id=my_thread.id,\n",
    "  assistant_id=my_assistant.id\n",
    ")"
   ]
  },
  {
   "cell_type": "code",
   "execution_count": 16,
   "id": "c23ea0e2",
   "metadata": {},
   "outputs": [
    {
     "name": "stdout",
     "output_type": "stream",
     "text": [
      "Assistant response: 1\n"
     ]
    }
   ],
   "source": [
    "import time # needed for sleep\n",
    "\n",
    "# poll my_run object for a terminal status\n",
    "while my_run.status in ['queued', 'in_progress', 'cancelling']:\n",
    "  time.sleep(1) # Wait for 1 second\n",
    "  my_run = client.beta.threads.runs.retrieve(\n",
    "    thread_id=my_thread.id,\n",
    "    run_id=my_run.id\n",
    "  )\n",
    "\n",
    "# terminal status completed\n",
    "if my_run.status == 'completed':\n",
    "  # list messages for my_thread\n",
    "  new_messages = client.beta.threads.messages.list(thread_id=my_thread.id)\n",
    "  # determine response from new_messages\n",
    "  response = new_messages.data[0].content[0].text.value\n",
    "\n",
    "  print(f\"Assistant response: {response}\")\n",
    "else:\n",
    "  print(my_run.status)       "
   ]
  },
  {
   "cell_type": "code",
   "execution_count": null,
   "id": "e6e83251",
   "metadata": {},
   "outputs": [],
   "source": []
  }
 ],
 "metadata": {
  "kernelspec": {
   "display_name": "Python 3 (ipykernel)",
   "language": "python",
   "name": "python3"
  },
  "language_info": {
   "codemirror_mode": {
    "name": "ipython",
    "version": 3
   },
   "file_extension": ".py",
   "mimetype": "text/x-python",
   "name": "python",
   "nbconvert_exporter": "python",
   "pygments_lexer": "ipython3",
   "version": "3.10.14"
  }
 },
 "nbformat": 4,
 "nbformat_minor": 5
}
