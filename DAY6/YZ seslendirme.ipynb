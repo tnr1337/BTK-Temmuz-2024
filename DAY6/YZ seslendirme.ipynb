{
 "cells": [
  {
   "cell_type": "markdown",
   "id": "21418e36",
   "metadata": {},
   "source": [
    "## Text to Speech"
   ]
  },
  {
   "cell_type": "code",
   "execution_count": 1,
   "id": "f37e2fa4",
   "metadata": {
    "collapsed": true
   },
   "outputs": [
    {
     "name": "stdout",
     "output_type": "stream",
     "text": [
      "Requirement already satisfied: gtts in c:\\users\\murat\\.conda\\envs\\jupyterlab\\lib\\site-packages (2.5.2)\n",
      "Requirement already satisfied: requests<3,>=2.27 in c:\\users\\murat\\.conda\\envs\\jupyterlab\\lib\\site-packages (from gtts) (2.32.2)\n",
      "Requirement already satisfied: click<8.2,>=7.1 in c:\\users\\murat\\.conda\\envs\\jupyterlab\\lib\\site-packages (from gtts) (8.1.7)\n",
      "Requirement already satisfied: colorama in c:\\users\\murat\\.conda\\envs\\jupyterlab\\lib\\site-packages (from click<8.2,>=7.1->gtts) (0.4.6)\n",
      "Requirement already satisfied: charset-normalizer<4,>=2 in c:\\users\\murat\\.conda\\envs\\jupyterlab\\lib\\site-packages (from requests<3,>=2.27->gtts) (2.0.4)\n",
      "Requirement already satisfied: idna<4,>=2.5 in c:\\users\\murat\\.conda\\envs\\jupyterlab\\lib\\site-packages (from requests<3,>=2.27->gtts) (3.7)\n",
      "Requirement already satisfied: urllib3<3,>=1.21.1 in c:\\users\\murat\\.conda\\envs\\jupyterlab\\lib\\site-packages (from requests<3,>=2.27->gtts) (2.2.2)\n",
      "Requirement already satisfied: certifi>=2017.4.17 in c:\\users\\murat\\.conda\\envs\\jupyterlab\\lib\\site-packages (from requests<3,>=2.27->gtts) (2024.7.4)\n",
      "Note: you may need to restart the kernel to use updated packages.\n"
     ]
    }
   ],
   "source": [
    "pip install gtts"
   ]
  },
  {
   "cell_type": "code",
   "execution_count": 2,
   "id": "f0a212ca",
   "metadata": {},
   "outputs": [],
   "source": [
    "from gtts import gTTS"
   ]
  },
  {
   "cell_type": "code",
   "execution_count": 3,
   "id": "f3f130ff",
   "metadata": {},
   "outputs": [],
   "source": [
    "text='Merhaba ben yapay zeka asistanınızım. Size nasıl yardımcı olabilirim'"
   ]
  },
  {
   "cell_type": "code",
   "execution_count": 4,
   "id": "6248273b",
   "metadata": {},
   "outputs": [],
   "source": [
    "kayit=gTTS(text=text,lang='tr',slow=False)\n",
    "kayit.save('merhaba_yz.mp3')"
   ]
  },
  {
   "cell_type": "code",
   "execution_count": 5,
   "id": "51688981",
   "metadata": {},
   "outputs": [],
   "source": [
    "kayit=gTTS(text=text,lang='ru',slow=False)\n",
    "kayit.save('merhaba_yz_ru.mp3')"
   ]
  },
  {
   "cell_type": "code",
   "execution_count": null,
   "id": "5d2fef37",
   "metadata": {},
   "outputs": [],
   "source": []
  }
 ],
 "metadata": {
  "kernelspec": {
   "display_name": "Python 3 (ipykernel)",
   "language": "python",
   "name": "python3"
  },
  "language_info": {
   "codemirror_mode": {
    "name": "ipython",
    "version": 3
   },
   "file_extension": ".py",
   "mimetype": "text/x-python",
   "name": "python",
   "nbconvert_exporter": "python",
   "pygments_lexer": "ipython3",
   "version": "3.10.14"
  }
 },
 "nbformat": 4,
 "nbformat_minor": 5
}
