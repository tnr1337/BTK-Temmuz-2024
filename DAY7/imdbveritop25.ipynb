{
 "cells": [
  {
   "cell_type": "code",
   "execution_count": 1,
   "id": "28fb720a",
   "metadata": {},
   "outputs": [
    {
     "name": "stdout",
     "output_type": "stream",
     "text": [
      "                                                Movie  Year      Rating\n",
      "0                         1. The Shawshank Redemption  1994  9.3 (2.9M)\n",
      "1                                    2. The Godfather  1972    9.2 (2M)\n",
      "2                                  3. The Dark Knight  2008  9.0 (2.9M)\n",
      "3                            4. The Godfather Part II  1974  9.0 (1.4M)\n",
      "4                                     5. 12 Angry Men  1957  9.0 (876K)\n",
      "5                                 6. Schindler's List  1993  9.0 (1.5M)\n",
      "6    7. The Lord of the Rings: The Return of the King  2003    9.0 (2M)\n",
      "7                                     8. Pulp Fiction  1994  8.9 (2.2M)\n",
      "8   9. The Lord of the Rings: The Fellowship of th...  2001    8.9 (2M)\n",
      "9                 10. Il buono, il brutto, il cattivo  1966  8.8 (818K)\n",
      "10                                   11. Forrest Gump  1994  8.8 (2.3M)\n",
      "11          12. The Lord of the Rings: The Two Towers  2002  8.8 (1.8M)\n",
      "12                                     13. Fight Club  1999  8.8 (2.4M)\n",
      "13                                      14. Inception  2010  8.8 (2.6M)\n",
      "14  15. Star Wars: Episode V - The Empire Strikes ...  1980  8.7 (1.4M)\n",
      "15                                     16. The Matrix  1999  8.7 (2.1M)\n",
      "16                                     17. Goodfellas  1990  8.7 (1.3M)\n",
      "17                18. One Flew Over the Cuckoo's Nest  1975  8.7 (1.1M)\n",
      "18                                          19. Se7en  1995  8.6 (1.8M)\n",
      "19                                   20. Interstellar  2014  8.7 (2.1M)\n",
      "20                          21. It's a Wonderful Life  1946  8.6 (503K)\n",
      "21                           22. Shichinin no samurai  1954  8.6 (370K)\n",
      "22                       23. The Silence of the Lambs  1991  8.6 (1.6M)\n",
      "23                            24. Saving Private Ryan  1998  8.6 (1.5M)\n",
      "24                                 25. Cidade de Deus  2002  8.6 (807K)\n"
     ]
    }
   ],
   "source": [
    "# İmdb 250 listesinde bulunan bir film sitesindeki filmleri ve puanlarını çekme\n",
    "\n",
    "import requests\n",
    "from bs4 import BeautifulSoup\n",
    "import pandas as pd\n",
    "\n",
    "# IMDb Top 250 sayfasının URL'si\n",
    "url = \"https://www.imdb.com/chart/top/\"\n",
    "\n",
    "# Tarayıcı benzeri başlıklardan kurtulmak için: Google: my user agent\n",
    "headers = {\n",
    "    \"User-Agent\": \"Mozilla/5.0 (Windows NT 10.0; Win64; x64) AppleWebKit/537.36 (KHTML, like Gecko) Chrome/122.0.0.0 Safari/537.36\"\n",
    "}\n",
    "\n",
    "# Sayfayı çekme\n",
    "response = requests.get(url, headers=headers)\n",
    "if response.status_code != 200:  # 200 durum kodu başarı içindir.\n",
    "    raise Exception(f\"Failed to load page {url}\")\n",
    "\n",
    "\n",
    "# Beautiful Soup ile parse etme(ayrıştırma işlemi)\n",
    "soup = BeautifulSoup(response.content, 'html.parser')\n",
    "\n",
    "\n",
    "\n",
    "# Filmlerin bulunduğu tabloyu bulma\n",
    "movies_table = soup.find(name=\"ul\", class_=\"ipc-metadata-list ipc-metadata-list--dividers-between sc-a1e81754-0 eBRbsI compact-list-view ipc-metadata-list--base\")\n",
    "\n",
    "# Tabloyu bulup bulamadığımızı kontrol etme\n",
    "if not movies_table:\n",
    "    raise Exception(\"Could not find the movie table. The page structure might have changed.\")\n",
    "\n",
    "# Filmleri bulma\n",
    "movies = movies_table.find_all('li', class_='ipc-metadata-list-summary-item')\n",
    "# Film bilgilerini saklamak için boş liste\n",
    "movie_list = []\n",
    "\n",
    "# Tüm Filmleri kazıma için for loop\n",
    "for movie in movies:\n",
    "    # Film adı\n",
    "    title_tag = movie.find('h3', class_='ipc-title__text')\n",
    "    #print(title_tag)\n",
    "    title = title_tag.text.strip() if title_tag else 'N/A'\n",
    "    #print(title)\n",
    "    # Yapım yılı\n",
    "    year_tag = movie.find('span', class_='sc-b189961a-8 kLaxqf cli-title-metadata-item')      \n",
    "    #print(year_tag)\n",
    "    year = year_tag.text.strip('()') if year_tag else 'N/A'\n",
    "    #print(year)\n",
    "    \n",
    "    # Rating ve oy sayısı\n",
    "    rating_tag = movie.find('span', class_='ipc-rating-star ipc-rating-star--base ipc-rating-star--imdb ratingGroup--imdb-rating')    \n",
    "    #print(rating_tag)\n",
    "    rating = rating_tag.text.strip() if rating_tag else 'N/A'\n",
    "    #print(rating)\n",
    "    \n",
    "    # Filmin bilgilerini listeye ekleme\n",
    "    movie_list.append([title, year, rating])\n",
    "\n",
    "# Verileri bir DataFrame'e dönüştürme\n",
    "df = pd.DataFrame(movie_list, columns=['Movie', 'Year', 'Rating'])\n",
    "\n",
    "# DataFrame'i görüntüleme\n",
    "print(df)\n"
   ]
  },
  {
   "cell_type": "code",
   "execution_count": 2,
   "id": "375506e9",
   "metadata": {},
   "outputs": [],
   "source": [
    "df.to_excel('cikti.xlsx', index=False)"
   ]
  },
  {
   "cell_type": "code",
   "execution_count": 2,
   "id": "69716430",
   "metadata": {},
   "outputs": [],
   "source": [
    "#pip install requests"
   ]
  },
  {
   "cell_type": "code",
   "execution_count": 3,
   "id": "3a02c007",
   "metadata": {},
   "outputs": [],
   "source": [
    "#pip install bs4"
   ]
  }
 ],
 "metadata": {
  "kernelspec": {
   "display_name": "Python 3 (ipykernel)",
   "language": "python",
   "name": "python3"
  },
  "language_info": {
   "codemirror_mode": {
    "name": "ipython",
    "version": 3
   },
   "file_extension": ".py",
   "mimetype": "text/x-python",
   "name": "python",
   "nbconvert_exporter": "python",
   "pygments_lexer": "ipython3",
   "version": "3.11.9"
  }
 },
 "nbformat": 4,
 "nbformat_minor": 5
}
